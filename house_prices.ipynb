{
 "cells": [
  {
   "cell_type": "markdown",
   "id": "f9ee611f-c459-43c7-a968-4b29a7af8e51",
   "metadata": {},
   "source": [
    "# House Prices "
   ]
  },
  {
   "cell_type": "markdown",
   "id": "c636104e-2c7b-40d4-a2b3-88564aa584bb",
   "metadata": {},
   "source": [
    "Link to Kaggle page: https://www.kaggle.com/competitions/house-prices-advanced-regression-techniques/overview"
   ]
  },
  {
   "cell_type": "code",
   "execution_count": 70,
   "id": "f2efe924-faa4-4ec4-80ea-206996f96d30",
   "metadata": {},
   "outputs": [],
   "source": [
    "#import libraries\n",
    "import pandas as pd\n",
    "import seaborn as sns\n",
    "import matplotlib.pyplot as plt\n",
    "from sklearn.model_selection import train_test_split\n",
    "from sklearn.linear_model import LinearRegression\n",
    "from sklearn.metrics import mean_squared_error"
   ]
  },
  {
   "cell_type": "code",
   "execution_count": 40,
   "id": "c8879570-6150-46f2-9124-c96ae5487885",
   "metadata": {},
   "outputs": [
    {
     "data": {
      "text/html": [
       "<div>\n",
       "<style scoped>\n",
       "    .dataframe tbody tr th:only-of-type {\n",
       "        vertical-align: middle;\n",
       "    }\n",
       "\n",
       "    .dataframe tbody tr th {\n",
       "        vertical-align: top;\n",
       "    }\n",
       "\n",
       "    .dataframe thead th {\n",
       "        text-align: right;\n",
       "    }\n",
       "</style>\n",
       "<table border=\"1\" class=\"dataframe\">\n",
       "  <thead>\n",
       "    <tr style=\"text-align: right;\">\n",
       "      <th></th>\n",
       "      <th>Id</th>\n",
       "      <th>MSSubClass</th>\n",
       "      <th>MSZoning</th>\n",
       "      <th>LotFrontage</th>\n",
       "      <th>LotArea</th>\n",
       "      <th>Street</th>\n",
       "      <th>Alley</th>\n",
       "      <th>LotShape</th>\n",
       "      <th>LandContour</th>\n",
       "      <th>Utilities</th>\n",
       "      <th>...</th>\n",
       "      <th>PoolArea</th>\n",
       "      <th>PoolQC</th>\n",
       "      <th>Fence</th>\n",
       "      <th>MiscFeature</th>\n",
       "      <th>MiscVal</th>\n",
       "      <th>MoSold</th>\n",
       "      <th>YrSold</th>\n",
       "      <th>SaleType</th>\n",
       "      <th>SaleCondition</th>\n",
       "      <th>SalePrice</th>\n",
       "    </tr>\n",
       "  </thead>\n",
       "  <tbody>\n",
       "    <tr>\n",
       "      <th>0</th>\n",
       "      <td>1</td>\n",
       "      <td>60</td>\n",
       "      <td>RL</td>\n",
       "      <td>65.0</td>\n",
       "      <td>8450</td>\n",
       "      <td>Pave</td>\n",
       "      <td>NaN</td>\n",
       "      <td>Reg</td>\n",
       "      <td>Lvl</td>\n",
       "      <td>AllPub</td>\n",
       "      <td>...</td>\n",
       "      <td>0</td>\n",
       "      <td>NaN</td>\n",
       "      <td>NaN</td>\n",
       "      <td>NaN</td>\n",
       "      <td>0</td>\n",
       "      <td>2</td>\n",
       "      <td>2008</td>\n",
       "      <td>WD</td>\n",
       "      <td>Normal</td>\n",
       "      <td>208500</td>\n",
       "    </tr>\n",
       "    <tr>\n",
       "      <th>1</th>\n",
       "      <td>2</td>\n",
       "      <td>20</td>\n",
       "      <td>RL</td>\n",
       "      <td>80.0</td>\n",
       "      <td>9600</td>\n",
       "      <td>Pave</td>\n",
       "      <td>NaN</td>\n",
       "      <td>Reg</td>\n",
       "      <td>Lvl</td>\n",
       "      <td>AllPub</td>\n",
       "      <td>...</td>\n",
       "      <td>0</td>\n",
       "      <td>NaN</td>\n",
       "      <td>NaN</td>\n",
       "      <td>NaN</td>\n",
       "      <td>0</td>\n",
       "      <td>5</td>\n",
       "      <td>2007</td>\n",
       "      <td>WD</td>\n",
       "      <td>Normal</td>\n",
       "      <td>181500</td>\n",
       "    </tr>\n",
       "    <tr>\n",
       "      <th>2</th>\n",
       "      <td>3</td>\n",
       "      <td>60</td>\n",
       "      <td>RL</td>\n",
       "      <td>68.0</td>\n",
       "      <td>11250</td>\n",
       "      <td>Pave</td>\n",
       "      <td>NaN</td>\n",
       "      <td>IR1</td>\n",
       "      <td>Lvl</td>\n",
       "      <td>AllPub</td>\n",
       "      <td>...</td>\n",
       "      <td>0</td>\n",
       "      <td>NaN</td>\n",
       "      <td>NaN</td>\n",
       "      <td>NaN</td>\n",
       "      <td>0</td>\n",
       "      <td>9</td>\n",
       "      <td>2008</td>\n",
       "      <td>WD</td>\n",
       "      <td>Normal</td>\n",
       "      <td>223500</td>\n",
       "    </tr>\n",
       "    <tr>\n",
       "      <th>3</th>\n",
       "      <td>4</td>\n",
       "      <td>70</td>\n",
       "      <td>RL</td>\n",
       "      <td>60.0</td>\n",
       "      <td>9550</td>\n",
       "      <td>Pave</td>\n",
       "      <td>NaN</td>\n",
       "      <td>IR1</td>\n",
       "      <td>Lvl</td>\n",
       "      <td>AllPub</td>\n",
       "      <td>...</td>\n",
       "      <td>0</td>\n",
       "      <td>NaN</td>\n",
       "      <td>NaN</td>\n",
       "      <td>NaN</td>\n",
       "      <td>0</td>\n",
       "      <td>2</td>\n",
       "      <td>2006</td>\n",
       "      <td>WD</td>\n",
       "      <td>Abnorml</td>\n",
       "      <td>140000</td>\n",
       "    </tr>\n",
       "    <tr>\n",
       "      <th>4</th>\n",
       "      <td>5</td>\n",
       "      <td>60</td>\n",
       "      <td>RL</td>\n",
       "      <td>84.0</td>\n",
       "      <td>14260</td>\n",
       "      <td>Pave</td>\n",
       "      <td>NaN</td>\n",
       "      <td>IR1</td>\n",
       "      <td>Lvl</td>\n",
       "      <td>AllPub</td>\n",
       "      <td>...</td>\n",
       "      <td>0</td>\n",
       "      <td>NaN</td>\n",
       "      <td>NaN</td>\n",
       "      <td>NaN</td>\n",
       "      <td>0</td>\n",
       "      <td>12</td>\n",
       "      <td>2008</td>\n",
       "      <td>WD</td>\n",
       "      <td>Normal</td>\n",
       "      <td>250000</td>\n",
       "    </tr>\n",
       "  </tbody>\n",
       "</table>\n",
       "<p>5 rows × 81 columns</p>\n",
       "</div>"
      ],
      "text/plain": [
       "   Id  MSSubClass MSZoning  LotFrontage  LotArea Street Alley LotShape  \\\n",
       "0   1          60       RL         65.0     8450   Pave   NaN      Reg   \n",
       "1   2          20       RL         80.0     9600   Pave   NaN      Reg   \n",
       "2   3          60       RL         68.0    11250   Pave   NaN      IR1   \n",
       "3   4          70       RL         60.0     9550   Pave   NaN      IR1   \n",
       "4   5          60       RL         84.0    14260   Pave   NaN      IR1   \n",
       "\n",
       "  LandContour Utilities  ... PoolArea PoolQC Fence MiscFeature MiscVal MoSold  \\\n",
       "0         Lvl    AllPub  ...        0    NaN   NaN         NaN       0      2   \n",
       "1         Lvl    AllPub  ...        0    NaN   NaN         NaN       0      5   \n",
       "2         Lvl    AllPub  ...        0    NaN   NaN         NaN       0      9   \n",
       "3         Lvl    AllPub  ...        0    NaN   NaN         NaN       0      2   \n",
       "4         Lvl    AllPub  ...        0    NaN   NaN         NaN       0     12   \n",
       "\n",
       "  YrSold  SaleType  SaleCondition  SalePrice  \n",
       "0   2008        WD         Normal     208500  \n",
       "1   2007        WD         Normal     181500  \n",
       "2   2008        WD         Normal     223500  \n",
       "3   2006        WD        Abnorml     140000  \n",
       "4   2008        WD         Normal     250000  \n",
       "\n",
       "[5 rows x 81 columns]"
      ]
     },
     "execution_count": 40,
     "metadata": {},
     "output_type": "execute_result"
    }
   ],
   "source": [
    "#read csv\n",
    "df = pd.read_csv(\"train_house_prices.csv\")\n",
    "df.head()"
   ]
  },
  {
   "cell_type": "markdown",
   "id": "8588b867-b276-4fde-8178-4d36f1d57c6c",
   "metadata": {},
   "source": [
    "## EDA for the most important commom features "
   ]
  },
  {
   "cell_type": "markdown",
   "id": "669778f6-585a-4667-b4f0-3f20d4232681",
   "metadata": {},
   "source": [
    "##### GrLivArea: Above grade (ground) living area square feet"
   ]
  },
  {
   "cell_type": "code",
   "execution_count": 41,
   "id": "f1027976-b2b0-465e-a08c-4593fa88782e",
   "metadata": {},
   "outputs": [
    {
     "data": {
      "image/png": "[encoded data removed]",
      "text/plain": [
       "<Figure size 640x480 with 1 Axes>"
      ]
     },
     "metadata": {},
     "output_type": "display_data"
    }
   ],
   "source": [
    "# From square feets to square meters\n",
    "df[\"GrLivArea\"] = round(df[\"GrLivArea\"] * 0.092903, 2)\n",
    "\n",
    "df[\"GrLivArea\"].hist(bins=30)\n",
    "plt.xlabel('Living Area in square meters');"
   ]
  },
  {
   "cell_type": "code",
   "execution_count": 42,
   "id": "5628b1f3-5f64-47ba-82e9-933da706016d",
   "metadata": {},
   "outputs": [
    {
     "data": {
      "image/png": "[encoded data removed]",
      "text/plain": [
       "<Figure size 640x480 with 1 Axes>"
      ]
     },
     "metadata": {},
     "output_type": "display_data"
    }
   ],
   "source": [
    "sns.boxplot(x=df[\"GrLivArea\"]);"
   ]
  },
  {
   "cell_type": "markdown",
   "id": "3755ce85-e147-41fc-a3ae-f70c7362bb25",
   "metadata": {},
   "source": [
    "We have outliers, but only from one side. Though we can use some models that aren't effected by outliers, at this project we just remove top 1%."
   ]
  },
  {
   "cell_type": "code",
   "execution_count": 43,
   "id": "f5e088fa-e306-4f7d-9d20-c47bec623e61",
   "metadata": {},
   "outputs": [
    {
     "data": {
      "image/png": "[encoded data removed]",
      "text/plain": [
       "<Figure size 640x480 with 1 Axes>"
      ]
     },
     "metadata": {},
     "output_type": "display_data"
    }
   ],
   "source": [
    "high = df[\"GrLivArea\"].quantile(0.99)\n",
    "df = df[df[\"GrLivArea\"] <= high]\n",
    "sns.boxplot(x=df[\"GrLivArea\"])\n",
    "plt.title('Boxplot of Living Area after removing outliers');"
   ]
  },
  {
   "cell_type": "markdown",
   "id": "09f49691-f4cf-4bef-8eec-72d15d9ed010",
   "metadata": {},
   "source": [
    "##### YearBuilt: Original construction date"
   ]
  },
  {
   "cell_type": "code",
   "execution_count": 47,
   "id": "5217c3bd-f239-4d89-9299-f621f05486c7",
   "metadata": {},
   "outputs": [
    {
     "data": {
      "text/plain": [
       "count    1445.000000\n",
       "mean     1971.285813\n",
       "std        30.031228\n",
       "min      1872.000000\n",
       "25%      1954.000000\n",
       "50%      1972.000000\n",
       "75%      2000.000000\n",
       "max      2010.000000\n",
       "Name: YearBuilt, dtype: float64"
      ]
     },
     "execution_count": 47,
     "metadata": {},
     "output_type": "execute_result"
    }
   ],
   "source": [
    "df[\"YearBuilt\"].describe()"
   ]
  },
  {
   "cell_type": "markdown",
   "id": "f740a05e-c4db-43df-ad1f-123aa4a992f4",
   "metadata": {},
   "source": [
    "If we assume that dataset was valid in 2011, we can transform data in this way: age = 2010 - YearBuilt."
   ]
  },
  {
   "cell_type": "code",
   "execution_count": 51,
   "id": "ffcb746b-b0ba-4864-a4c8-7b4fc9ba06ff",
   "metadata": {},
   "outputs": [
    {
     "data": {
      "image/png": "[encoded data removed]",
      "text/plain": [
       "<Figure size 640x480 with 1 Axes>"
      ]
     },
     "metadata": {},
     "output_type": "display_data"
    }
   ],
   "source": [
    "df[\"age\"] = 2011 - df[\"YearBuilt\"]\n",
    "df[\"age\"].hist(bins=20);"
   ]
  },
  {
   "cell_type": "code",
   "execution_count": 55,
   "id": "9b1e795d-2e99-4ce2-8b05-896e9a64e3cc",
   "metadata": {},
   "outputs": [
    {
     "data": {
      "image/png": "[encoded data removed]",
      "text/plain": [
       "<Figure size 640x480 with 1 Axes>"
      ]
     },
     "metadata": {},
     "output_type": "display_data"
    }
   ],
   "source": [
    "plt.scatter(df[\"age\"], df[\"SalePrice\"])\n",
    "plt.xlabel(\"Age of building\")\n",
    "plt.ylabel(\"Price\");"
   ]
  },
  {
   "cell_type": "code",
   "execution_count": 56,
   "id": "b7fb30f5-4145-45ab-9dda-f2fb0af72b5c",
   "metadata": {},
   "outputs": [
    {
     "data": {
      "text/plain": [
       "-0.5658533087733612"
      ]
     },
     "execution_count": 56,
     "metadata": {},
     "output_type": "execute_result"
    }
   ],
   "source": [
    "df[\"age\"].corr(df[\"SalePrice\"])"
   ]
  },
  {
   "cell_type": "markdown",
   "id": "00d2f800-80ff-4fc6-abc9-1af3869f7ffd",
   "metadata": {},
   "source": [
    "##### OverallCond: Rates the overall condition of the house"
   ]
  },
  {
   "cell_type": "code",
   "execution_count": 58,
   "id": "ca67d987-449c-4188-bbdd-f8db52e465b2",
   "metadata": {},
   "outputs": [
    {
     "data": {
      "text/plain": [
       "-0.09512264128729958"
      ]
     },
     "execution_count": 58,
     "metadata": {},
     "output_type": "execute_result"
    }
   ],
   "source": [
    "df[\"OverallCond\"].corr(df[\"SalePrice\"])"
   ]
  },
  {
   "cell_type": "markdown",
   "id": "a2d30957-ef69-408c-9c08-24150ab895c7",
   "metadata": {},
   "source": [
    "Though correlation is not strong, we can use it to improve our predictability."
   ]
  },
  {
   "cell_type": "markdown",
   "id": "f3bf42e9-cc9c-4218-b94d-c2b466a16f9d",
   "metadata": {},
   "source": [
    "Let's try to build model with only two features."
   ]
  },
  {
   "cell_type": "code",
   "execution_count": 76,
   "id": "269fcdc5-1f82-45b3-b984-a9e3d222a591",
   "metadata": {},
   "outputs": [],
   "source": [
    "target = [\"SalePrice\"]\n",
    "features = [\"GrLivArea\", \"age\", \"OverallCond\"]\n",
    "X = df[features]\n",
    "y = df[target]"
   ]
  },
  {
   "cell_type": "code",
   "execution_count": 77,
   "id": "309055ed-e0ec-486e-9c86-9371d1aa2d1f",
   "metadata": {},
   "outputs": [],
   "source": [
    "X_train, X_test, y_train, y_test = train_test_split(X, y, test_size=0.2, random_state=42)"
   ]
  },
  {
   "cell_type": "markdown",
   "id": "2a4f4732-2a4e-4cc0-b8f1-dd764c702ae8",
   "metadata": {},
   "source": [
    "Before we train our linear model we should build a baseline model."
   ]
  },
  {
   "cell_type": "code",
   "execution_count": 78,
   "id": "3b57aea5-26e1-457c-b4d1-9e137132e9a8",
   "metadata": {},
   "outputs": [
    {
     "data": {
      "text/plain": [
       "SalePrice    178959.613322\n",
       "dtype: float64"
      ]
     },
     "execution_count": 78,
     "metadata": {},
     "output_type": "execute_result"
    }
   ],
   "source": [
    "y_base = y_train.mean()\n",
    "y_base"
   ]
  },
  {
   "cell_type": "code",
   "execution_count": 79,
   "id": "ff56593e-a1ce-437d-96a2-90ff8670d76c",
   "metadata": {},
   "outputs": [],
   "source": [
    "model = LinearRegression()\n",
    "model.fit(X_train, y_train)\n",
    "y_pred = model.predict(X_test)"
   ]
  },
  {
   "cell_type": "code",
   "execution_count": 80,
   "id": "c23279f0-4b53-482a-a5f2-cf1dfe3f0ec7",
   "metadata": {},
   "outputs": [
    {
     "data": {
      "text/plain": [
       "0.3208512990343764"
      ]
     },
     "execution_count": 80,
     "metadata": {},
     "output_type": "execute_result"
    }
   ],
   "source": [
    "mse_base = mean_squared_error(y_test, [y_base] * len(y_test))\n",
    "mse_linear = mean_squared_error(y_test, y_pred)\n",
    "mse_linear / mse_base"
   ]
  },
  {
   "cell_type": "code",
   "execution_count": 81,
   "id": "444a82a9-3afe-4c0e-8641-260cb9507531",
   "metadata": {},
   "outputs": [
    {
     "data": {
      "text/html": [
       "<div>\n",
       "<style scoped>\n",
       "    .dataframe tbody tr th:only-of-type {\n",
       "        vertical-align: middle;\n",
       "    }\n",
       "\n",
       "    .dataframe tbody tr th {\n",
       "        vertical-align: top;\n",
       "    }\n",
       "\n",
       "    .dataframe thead th {\n",
       "        text-align: right;\n",
       "    }\n",
       "</style>\n",
       "<table border=\"1\" class=\"dataframe\">\n",
       "  <thead>\n",
       "    <tr style=\"text-align: right;\">\n",
       "      <th></th>\n",
       "      <th>SalePrice</th>\n",
       "    </tr>\n",
       "  </thead>\n",
       "  <tbody>\n",
       "    <tr>\n",
       "      <th>count</th>\n",
       "      <td>289.000000</td>\n",
       "    </tr>\n",
       "    <tr>\n",
       "      <th>mean</th>\n",
       "      <td>176141.117647</td>\n",
       "    </tr>\n",
       "    <tr>\n",
       "      <th>std</th>\n",
       "      <td>82912.591988</td>\n",
       "    </tr>\n",
       "    <tr>\n",
       "      <th>min</th>\n",
       "      <td>35311.000000</td>\n",
       "    </tr>\n",
       "    <tr>\n",
       "      <th>25%</th>\n",
       "      <td>128000.000000</td>\n",
       "    </tr>\n",
       "    <tr>\n",
       "      <th>50%</th>\n",
       "      <td>152000.000000</td>\n",
       "    </tr>\n",
       "    <tr>\n",
       "      <th>75%</th>\n",
       "      <td>207000.000000</td>\n",
       "    </tr>\n",
       "    <tr>\n",
       "      <th>max</th>\n",
       "      <td>611657.000000</td>\n",
       "    </tr>\n",
       "  </tbody>\n",
       "</table>\n",
       "</div>"
      ],
      "text/plain": [
       "           SalePrice\n",
       "count     289.000000\n",
       "mean   176141.117647\n",
       "std     82912.591988\n",
       "min     35311.000000\n",
       "25%    128000.000000\n",
       "50%    152000.000000\n",
       "75%    207000.000000\n",
       "max    611657.000000"
      ]
     },
     "execution_count": 81,
     "metadata": {},
     "output_type": "execute_result"
    }
   ],
   "source": [
    "y_test.describe()"
   ]
  },
  {
   "cell_type": "code",
   "execution_count": 82,
   "id": "9029a878-32dd-42f3-afd6-1223ada26f71",
   "metadata": {},
   "outputs": [
    {
     "data": {
      "text/plain": [
       "46910.641119608044"
      ]
     },
     "execution_count": 82,
     "metadata": {},
     "output_type": "execute_result"
    }
   ],
   "source": [
    "mse_linear ** 0.5"
   ]
  },
  {
   "cell_type": "markdown",
   "id": "c024e15e-fe4c-42f5-8399-eae14ebe224c",
   "metadata": {},
   "source": [
    "#### With just two parameters known our model can predict price! But our estimations are far from truth..."
   ]
  }
 ],
 "metadata": {
  "kernelspec": {
   "display_name": "Python 3 (ipykernel)",
   "language": "python",
   "name": "python3"
  },
  "language_info": {
   "codemirror_mode": {
    "name": "ipython",
    "version": 3
   },
   "file_extension": ".py",
   "mimetype": "text/x-python",
   "name": "python",
   "nbconvert_exporter": "python",
   "pygments_lexer": "ipython3",
   "version": "3.11.5"
  }
 },
 "nbformat": 4,
 "nbformat_minor": 5
}
